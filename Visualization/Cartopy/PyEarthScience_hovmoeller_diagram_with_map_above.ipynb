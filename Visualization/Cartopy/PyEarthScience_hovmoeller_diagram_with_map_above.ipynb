{
 "cells": [
  {
   "cell_type": "markdown",
   "id": "f541a48c-1812-42ef-ace3-1a89c23b4e20",
   "metadata": {},
   "source": [
    "----\n",
    "\n",
    "# PyEarthScience: Hovmöller Plot\n",
    "\n",
    "Citation from Wkipedia: https://en.wikipedia.org/wiki/Hovm%C3%B6ller_diagram\n",
    "\n",
    "> \"A Hovmöller diagram is a common way of plotting meteorological data to highlight \n",
    "> the behavior of waves, particularly tropical waves. The axes of Hovmöller diagrams \n",
    "> depict changes over time of scalar quantities such as temperature, density, and \n",
    "> other values of constituents in the atmosphere or ocean, such as depth, height, or \n",
    "> pressure. Typically in that case, time is recorded along the abscissa, or x-axis, \n",
    "> while 'vertical' values (of depth, height, pressure, etc.) are plotted along the \n",
    "> ordinate, or y-axis.\n",
    "> \n",
    "> The alternate orientation of axes may also be used, as a Hovmöller diagram may be \n",
    "> plotted for longitude or latitude on the abscissa and for (advancing) time on the \n",
    "> ordinate; then the contour values of a named physical field may be presented through \n",
    "> color or shading.\n",
    "> \n",
    "> The Hovmöller diagram was introduced by Ernest Aabo Hovmöller (1912-2008), \n",
    "> a Danish meteorologist, in a paper published in 1949.\"\n",
    "\n",
    "----\n",
    "\n",
    "In this example we show how to generate a Hovmöller diagram (lon vs. time). \n",
    "This example uses a subset of CMIP5 northward wind data. \n",
    "\n",
    "Steps:\n",
    "\n",
    "- open dataset\n",
    "- read variable\n",
    "- extract data for time, lat, lon slices, and level\n",
    "- compute the weighted mean for latitude slice\n",
    "- create datetime objects for axis labeling\n",
    "- create two plots: one small map on top and the Hovmöller diagram\n",
    "\n",
    "---- "
   ]
  },
  {
   "cell_type": "markdown",
   "id": "87f49c60",
   "metadata": {},
   "source": [
    "## Import packages"
   ]
  },
  {
   "cell_type": "code",
   "execution_count": null,
   "id": "04ac6a9f-fc47-480a-a00b-835d18b35dfb",
   "metadata": {},
   "outputs": [],
   "source": [
    "import xarray as xr\n",
    "import numpy as np\n",
    "\n",
    "import matplotlib.pyplot as plt\n",
    "import matplotlib.gridspec as gridspec\n",
    "import cartopy.crs as ccrs\n",
    "import cartopy.feature as cfeature"
   ]
  },
  {
   "cell_type": "markdown",
   "id": "0e6e06ca-ccae-442d-ba81-e8fad5181dd1",
   "metadata": {},
   "source": [
    "## Used data subset\n",
    "\n",
    "Dataset CMIP5 MPI-ESM-LR historical variable: va (northward wind)\n",
    "\n",
    "```\n",
    "  lon :       0        to  358.125 by 1.875 degrees_east  circular\n",
    "  lat :     -28.91149  to   28.91149 degrees_north\n",
    "  plev : 100000        to   10 Pa\n",
    "  time:  1980-01-01    to 1989-12-31\n",
    "  \n",
    "  va(time, plev, lat, lon)\n",
    "```"
   ]
  },
  {
   "cell_type": "code",
   "execution_count": null,
   "id": "9a46d2d3-4aa3-4b5f-a0e0-48a82cfba796",
   "metadata": {
    "tags": []
   },
   "outputs": [],
   "source": [
    "ds = xr.open_dataset('../../data/va_CMIP5_hist_subset_1980-1984.nc')"
   ]
  },
  {
   "cell_type": "markdown",
   "id": "6d765dd5-f72d-443d-a5b7-b06417717e9d",
   "metadata": {},
   "source": [
    "## Select variable\n",
    "\n",
    "Select variable va from dataset and convert the pressure levels from Pa to hPa and attach it to vnwind."
   ]
  },
  {
   "cell_type": "code",
   "execution_count": null,
   "id": "c0b0ad39-990e-4445-8dd9-2fb2d75ae31f",
   "metadata": {},
   "outputs": [],
   "source": [
    "vnwind = ds.va\n",
    "\n",
    "levels = ds.plev / 100\n",
    "levels.attrs['units'] = 'hPa'\n",
    "\n",
    "vnwind['plev'] = levels"
   ]
  },
  {
   "cell_type": "markdown",
   "id": "bcc9b901-b3c6-4ba6-93d8-5aa7c8792c8d",
   "metadata": {},
   "source": [
    "## Define slices\n",
    "\n",
    "Define the time and latitude slice, and the pressure level to be selected.\n"
   ]
  },
  {
   "cell_type": "code",
   "execution_count": null,
   "id": "c550c280-1d28-4c8a-ae27-397218742e44",
   "metadata": {},
   "outputs": [],
   "source": [
    "print('Start: ', ds.time[0].values, '   End: ', ds.time[-1].values, '   ntimes: ', len(ds.time))"
   ]
  },
  {
   "cell_type": "code",
   "execution_count": null,
   "id": "6c6a997a-7e0d-4a34-92f8-189ded39ab4a",
   "metadata": {},
   "outputs": [],
   "source": [
    "time1, time2 = ds.time[0].values, ds.time[-1].values\n",
    "\n",
    "lat1, lat2 = -10., 10.\n",
    "lon1, lon2 = 0., 358.125\n",
    "\n",
    "time_slice = slice(time1, time2)\n",
    "lat_slice  = slice(lat1, lat2)\n",
    "lon_slice  = slice(lon1, lon2)\n",
    "\n",
    "sel_lev = 300"
   ]
  },
  {
   "cell_type": "markdown",
   "id": "be04aec1-a435-439a-86a3-5f312647c592",
   "metadata": {},
   "source": [
    "## Extract data\n",
    "\n",
    "Extract the data from the variable vnwind as defined before.\n"
   ]
  },
  {
   "cell_type": "code",
   "execution_count": null,
   "id": "700cb15b-5015-4d3a-a726-8c98eace1251",
   "metadata": {
    "tags": []
   },
   "outputs": [],
   "source": [
    "data = vnwind.sel(time=time_slice, plev=sel_lev, lat=lat_slice, lon=lon_slice)"
   ]
  },
  {
   "cell_type": "markdown",
   "id": "70a99263-3714-4c54-85e7-1371e454244b",
   "metadata": {},
   "source": [
    "## Compute weights\n"
   ]
  },
  {
   "cell_type": "code",
   "execution_count": null,
   "id": "26571187-5e74-4cff-8a71-23d92283ce7d",
   "metadata": {
    "tags": []
   },
   "outputs": [],
   "source": [
    "weights = np.cos(np.deg2rad(data.lat))\n",
    "weights.name = \"weights\""
   ]
  },
  {
   "cell_type": "markdown",
   "id": "e5ec90e3",
   "metadata": {},
   "source": [
    "## Compute weighted data\n"
   ]
  },
  {
   "cell_type": "code",
   "execution_count": null,
   "id": "0a04e75f-e949-4e6c-aef3-4d2f81bc91d5",
   "metadata": {},
   "outputs": [],
   "source": [
    "data_weighted = data.weighted(weights)"
   ]
  },
  {
   "cell_type": "markdown",
   "id": "86d4f103",
   "metadata": {},
   "source": [
    "## Compute mean over dimension lat\n"
   ]
  },
  {
   "cell_type": "code",
   "execution_count": null,
   "id": "de9480be-8aee-4b0e-8e26-a8ba1f53c906",
   "metadata": {},
   "outputs": [],
   "source": [
    "data_weighted_mean = data_weighted.mean('lat')\n",
    "data_weighted_mean.name = 'va'"
   ]
  },
  {
   "cell_type": "markdown",
   "id": "0230fd3e",
   "metadata": {},
   "source": [
    "Print the minimum and maximum value of the data_weighted_mean array. We need this information for the contour lines later."
   ]
  },
  {
   "cell_type": "code",
   "execution_count": null,
   "id": "c391b15d-abdd-4f6e-b978-f495e9a5fd95",
   "metadata": {},
   "outputs": [],
   "source": [
    "print('Data min:  ', data_weighted_mean.min().values, '   Data max: ', data_weighted_mean.max().values)"
   ]
  },
  {
   "cell_type": "markdown",
   "id": "e9699ee3",
   "metadata": {},
   "source": [
    "## Define the value range for the contour lines levels."
   ]
  },
  {
   "cell_type": "code",
   "execution_count": null,
   "id": "0a9a23d0",
   "metadata": {},
   "outputs": [],
   "source": [
    "clevs = np.arange(-10, 11, 1)"
   ]
  },
  {
   "cell_type": "markdown",
   "id": "3a6d945a-a743-4f84-add9-330b065249e3",
   "metadata": {},
   "source": [
    "## Create datetime objects\n",
    "\n",
    "Read the time coordinate values and convert them to a more readable format for y-axis labeling. Don't forget to select the same time slice as for the data array.\n"
   ]
  },
  {
   "cell_type": "code",
   "execution_count": null,
   "id": "fa7d6c8d",
   "metadata": {},
   "outputs": [],
   "source": [
    "vtimes = vnwind.time.sel(time=time_slice).dt.strftime('%Y-%m').values"
   ]
  },
  {
   "cell_type": "markdown",
   "id": "4281a23e-297a-4df8-a77a-6d5e65420506",
   "metadata": {},
   "source": [
    "## Extract longitudes\n",
    "\n",
    "Extract the longitudes for the chosen region. Don't forget to select the same lon slice as for the data array.\n"
   ]
  },
  {
   "cell_type": "code",
   "execution_count": null,
   "id": "3083d460-b99c-4afa-8d7e-bf9829570443",
   "metadata": {},
   "outputs": [],
   "source": [
    "lons = vnwind.lon.sel(lon=lon_slice).values"
   ]
  },
  {
   "cell_type": "markdown",
   "id": "7a612d78-d08b-4155-a51c-d6ab067eeb67",
   "metadata": {},
   "source": [
    "## Create the plot\n",
    "\n",
    "Create two plots: \n",
    "\n",
    "1. **map plot**\n",
    "1. **Hovmöller plot**\n",
    "\n",
    "In this case we use the gridspec method to set the ratio and the space between the two plots.\n",
    "\n",
    "<br>"
   ]
  },
  {
   "cell_type": "code",
   "execution_count": null,
   "id": "087842b7-9ca1-4da7-b258-bbf6c0b41a3a",
   "metadata": {},
   "outputs": [],
   "source": [
    "fig = plt.figure(figsize=(10, 13))\n",
    "\n",
    "gs = gridspec.GridSpec(nrows=2, ncols=1, \n",
    "                       height_ratios=[1, 6], \n",
    "                       hspace=0.03)\n",
    "\n",
    "#-- 1. map plot\n",
    "proj = ccrs.PlateCarree(central_longitude=180.)\n",
    "\n",
    "ax1 = fig.add_subplot(gs[0, 0], projection=proj)\n",
    "\n",
    "ax1.set_extent([lon1, lon2, lat1, lat2])\n",
    "\n",
    "ax1.coastlines(resolution='110m', lw=0.5)\n",
    "ax1.gridlines(draw_labels=True, lw=0.1, edgecolor='lightgray', )\n",
    "\n",
    "ocean = cfeature.NaturalEarthFeature('physical', 'ocean', \n",
    "                                     scale='110m', \n",
    "                                     edgecolor='none', \n",
    "                                     facecolor=cfeature.COLORS['water'])\n",
    "\n",
    "land = cfeature.NaturalEarthFeature('physical', 'land', \n",
    "                                    scale='50m', \n",
    "                                    edgecolor='k', \n",
    "                                    facecolor=cfeature.COLORS['land'],\n",
    "                                    lw=0.3)\n",
    "\n",
    "ax1.add_feature(ocean, facecolor='cornflowerblue', zorder=0)\n",
    "ax1.add_feature(land, facecolor='cornsilk', zorder=0)\n",
    "\n",
    "plt.title('Used subregion', loc='left')\n",
    "plt.title('Used data: MPI-ESM-LR RCP-4.5', loc='right')\n",
    "\n",
    "#-- 2. Hovmoeller diagram\n",
    "ax2 = fig.add_subplot(gs[1, 0])\n",
    "\n",
    "cfplot = ax2.contourf(lons, vtimes, data_weighted_mean, \n",
    "                      levels=clevs, \n",
    "                      cmap='viridis', \n",
    "                      extend='both')\n",
    "\n",
    "clplot = ax2.contour(lons, vtimes, data_weighted_mean, \n",
    "                     levels=clevs, \n",
    "                     colors='k', \n",
    "                     linewidths=0.25)\n",
    "\n",
    "cbar = plt.colorbar(cfplot, \n",
    "                    orientation='horizontal', \n",
    "                    pad=0.04, \n",
    "                    aspect=50, \n",
    "                    extendrect=True)\n",
    "cbar.set_label('m $s^{-1}$')\n",
    "\n",
    "ax2.set_xticks([0, 90, 180, 270, 358.125])\n",
    "ax2.set_xticklabels([u'0\\N{DEGREE SIGN}E',   u'90\\N{DEGREE SIGN}E',\n",
    "                     u'180\\N{DEGREE SIGN}E', u'90\\N{DEGREE SIGN}W',\n",
    "                     u'0\\N{DEGREE SIGN}E'])\n",
    "\n",
    "ax2.set_yticks(vtimes[0::12])\n",
    "ax2.set_yticklabels(vtimes[0::12])\n",
    "\n",
    "plt.title(u'Hovmöller Diagram', loc='left')\n",
    "plt.title(str(sel_lev)+'-hPa V-wind', loc='center', fontsize=10)\n",
    "plt.title('Time: '+ vtimes[0] +' to '+ vtimes[-1], loc='right', fontsize=10)\n",
    "\n",
    "#plt.savefig('plot_hovmoeller.png', bbox_inches='tight', dpi=100)"
   ]
  },
  {
   "cell_type": "code",
   "execution_count": null,
   "id": "55edd59b-eaa8-4a99-a452-0b2fdb20fe32",
   "metadata": {},
   "outputs": [],
   "source": []
  }
 ],
 "metadata": {
  "kernelspec": {
   "display_name": "Python 3 (ipykernel)",
   "language": "python",
   "name": "python3"
  },
  "language_info": {
   "codemirror_mode": {
    "name": "ipython",
    "version": 3
   },
   "file_extension": ".py",
   "mimetype": "text/x-python",
   "name": "python",
   "nbconvert_exporter": "python",
   "pygments_lexer": "ipython3",
   "version": "3.8.12"
  }
 },
 "nbformat": 4,
 "nbformat_minor": 5
}
