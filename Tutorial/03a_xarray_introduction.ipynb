{
 "cells": [
  {
   "cell_type": "markdown",
   "metadata": {},
   "source": [
    "# 3.a xarray\n",
    "\n",
    "![xarray logo](images/xarray_logo.png)\n",
    "https://xarray.pydata.org/en/stable/index.html\n",
    "\n",
    "**xarray** is a python package which allows us to handle multi-dimensional datasets in a simple way. It provides a huge set of functions for advanced analytics and visualization. It is part of the SciPy and Pangeo ecosystem.\n",
    "\n",
    "**xarray** data structure deals with scientific data by using labels, attributes, dimensions and coordinates, and extend the capabilities of **NumPy** and **pandas**.\n",
    "\n",
    "\n",
    "## Data structures\n",
    "\n",
    "- DataArray\n",
    "- DataSet\n",
    "- Dimensions\n",
    "- Coordinates\n",
    "\n",
    "\n",
    "DataArray: \n",
    "\n",
    "    N-dimensional array with dimensions. The objects add dimension names, coordinates, and attibutes to the underlying data structure (numpy and dask arrays).\n",
    "\n",
    "Dataset: \n",
    "\n",
    "    Dict-like collection of DataArray objects with aligned dimensions. Similar use of variables, dimensions, coordinates, and attributes like for DataArray. You can see an xarray Dataset as a netCDF file like object.\n",
    " \n",
    "Dimensions: \n",
    "\n",
    "    Named dimension axes, if missing the dimension names are dim_0, dim_1, ...\n",
    "\n",
    "Coordinates: \n",
    "\n",
    "    An array which labels a dimension. Two types are defined a) dimension coordinates - 1-dimensional coordinate array assigned to the DataArray with a name and dimension name. b) Non-dimensional coordinate - a coordinate array assigned to DataArray with the name assigned to the coordinates and not to the dimensions.\n",
    "\n",
    "\n"
   ]
  },
  {
   "cell_type": "code",
   "execution_count": null,
   "metadata": {},
   "outputs": [],
   "source": [
    "%matplotlib inline\n",
    "\n",
    "import numpy as np\n",
    "import pandas as pd\n",
    "import xarray as xr"
   ]
  },
  {
   "cell_type": "markdown",
   "metadata": {},
   "source": [
    "## Working with DataArrays\n",
    "\n",
    "First, we create a random data array a with 20 values with numpy's ```random.rand()``` function."
   ]
  },
  {
   "cell_type": "code",
   "execution_count": null,
   "metadata": {},
   "outputs": [],
   "source": [
    "a = np.random.rand(20)\n",
    "\n",
    "print(a)"
   ]
  },
  {
   "cell_type": "markdown",
   "metadata": {},
   "source": [
    "Make an xarray DataArray from the numpy array a with ```xarrays.DataArray()```."
   ]
  },
  {
   "cell_type": "code",
   "execution_count": null,
   "metadata": {},
   "outputs": [],
   "source": [
    "da_a = xr.DataArray(a)\n",
    "\n",
    "print(da_a)"
   ]
  },
  {
   "cell_type": "markdown",
   "metadata": {},
   "source": [
    "As you can see a dimension ```dim_0``` is assed to the array.\n",
    "\n",
    "For n-dimensional arrays, a corresponding number of dimensions are used.\n",
    "\n",
    "E.g. 3D data array:"
   ]
  },
  {
   "cell_type": "code",
   "execution_count": null,
   "metadata": {},
   "outputs": [],
   "source": [
    "data = np.random.rand(4,90,180)\n",
    "\n",
    "print(data)"
   ]
  },
  {
   "cell_type": "code",
   "execution_count": null,
   "metadata": {},
   "outputs": [],
   "source": [
    "print(xr.DataArray(data))"
   ]
  },
  {
   "cell_type": "markdown",
   "metadata": {},
   "source": [
    "<br>\n",
    "\n",
    "The dimensions have no names and we want to change it in the next step with the ```coords``` and ```dims``` parameters.\n"
   ]
  },
  {
   "cell_type": "code",
   "execution_count": null,
   "metadata": {},
   "outputs": [],
   "source": [
    "time = pd.date_range(\"2020-01-01\", periods=4)\n",
    "lat = np.linspace( -90.0, 90.0,  90) \n",
    "lon = np.linspace(-180., 180.0, 180)\n",
    "\n",
    "da = xr.DataArray(data, coords=[time,lat,lon], dims=['time','lat','lon'])\n",
    "\n",
    "print(da)"
   ]
  },
  {
   "cell_type": "markdown",
   "metadata": {},
   "source": [
    "<br>\n",
    "\n",
    "Available DataArray attributes are\n",
    "\n",
    "- values\n",
    "- data\n",
    "- coords\n",
    "- dims\n",
    "- sizes\n",
    "- name\n",
    "- attrs"
   ]
  },
  {
   "cell_type": "code",
   "execution_count": null,
   "metadata": {},
   "outputs": [],
   "source": [
    "print(da.values)"
   ]
  },
  {
   "cell_type": "code",
   "execution_count": null,
   "metadata": {},
   "outputs": [],
   "source": [
    "print(da.data)"
   ]
  },
  {
   "cell_type": "code",
   "execution_count": null,
   "metadata": {},
   "outputs": [],
   "source": [
    "print(da.coords)"
   ]
  },
  {
   "cell_type": "code",
   "execution_count": null,
   "metadata": {},
   "outputs": [],
   "source": [
    "print(da.dims)"
   ]
  },
  {
   "cell_type": "code",
   "execution_count": null,
   "metadata": {},
   "outputs": [],
   "source": [
    "print(da.sizes)"
   ]
  },
  {
   "cell_type": "code",
   "execution_count": null,
   "metadata": {},
   "outputs": [],
   "source": [
    "print(da.name)\n",
    "\n",
    "da.name = 'data'\n",
    "\n",
    "print(da.name)"
   ]
  },
  {
   "cell_type": "code",
   "execution_count": null,
   "metadata": {},
   "outputs": [],
   "source": [
    "print(da.attrs)\n",
    "\n",
    "da.attrs['units'] = 'data units'\n",
    "\n",
    "print(da.attrs['units'])"
   ]
  },
  {
   "cell_type": "markdown",
   "metadata": {},
   "source": [
    "<br>\n",
    "\n",
    "Like numpy xarray provides some array methods e.g. where, min, and max."
   ]
  },
  {
   "cell_type": "code",
   "execution_count": null,
   "metadata": {},
   "outputs": [],
   "source": [
    "A = xr.DataArray(np.arange(1, 26).reshape(5, 5), dims=('x', 'y'))"
   ]
  },
  {
   "cell_type": "code",
   "execution_count": null,
   "metadata": {},
   "outputs": [],
   "source": [
    "A      #-- if used without print notebooks will give additional informations when available"
   ]
  },
  {
   "cell_type": "markdown",
   "metadata": {},
   "source": [
    "```xr.DataArray.where()``` example"
   ]
  },
  {
   "cell_type": "code",
   "execution_count": null,
   "metadata": {},
   "outputs": [],
   "source": [
    "print(A.where(A.x > 2))"
   ]
  },
  {
   "cell_type": "code",
   "execution_count": null,
   "metadata": {},
   "outputs": [],
   "source": [
    "print(A.where(A.x + A.y > 2))"
   ]
  },
  {
   "cell_type": "code",
   "execution_count": null,
   "metadata": {},
   "outputs": [],
   "source": [
    "print(A.where(A > 10))"
   ]
  },
  {
   "cell_type": "markdown",
   "metadata": {},
   "source": [
    "Use numpy's 'where' method for replacing values."
   ]
  },
  {
   "cell_type": "code",
   "execution_count": null,
   "metadata": {},
   "outputs": [],
   "source": [
    "print(np.where(A > 10, A, -9999.9))"
   ]
  },
  {
   "cell_type": "markdown",
   "metadata": {},
   "source": [
    "<br>\n",
    "\n",
    "## Working with Datasets\n",
    "\n",
    "A Dataset can contain multiple variables with different dimensions and coordinates.\n",
    "\n",
    "Define two random data arrays, temp and prec of size (12,90,180)."
   ]
  },
  {
   "cell_type": "code",
   "execution_count": null,
   "metadata": {},
   "outputs": [],
   "source": [
    "temp = np.random.uniform(low=265, high=310, size=(12,90,180)) \n",
    "prec = np.random.uniform(low=0.0001, high=0.001, size=(12,90,180))"
   ]
  },
  {
   "cell_type": "markdown",
   "metadata": {},
   "source": [
    "<br>\n",
    "\n",
    "Now, we want to generate and add coordinate variables to the dataset.\n",
    "\n",
    "To create a time coordinate we use pandas ```date_range()```function. 12 time steps, 15th Jan to 15th Dec 2020.\n",
    "<br>"
   ]
  },
  {
   "cell_type": "code",
   "execution_count": null,
   "metadata": {},
   "outputs": [],
   "source": [
    "time = pd.date_range(start='2020-01-1', periods=12, freq='SM')\n",
    "\n",
    "print(time)"
   ]
  },
  {
   "cell_type": "markdown",
   "metadata": {},
   "source": [
    "Create the coordinate variable arrays for longitude and latitude with numpy's ```linspace()``` function."
   ]
  },
  {
   "cell_type": "code",
   "execution_count": null,
   "metadata": {},
   "outputs": [],
   "source": [
    "lat = np.linspace(-90.0, 90.0, 90)\n",
    "lon = np.linspace(-180.0, 180.0, 180)\n",
    "\n",
    "print(lat)\n",
    "print(lon)"
   ]
  },
  {
   "cell_type": "markdown",
   "metadata": {},
   "source": [
    "<br>\n",
    "\n",
    "All we need is defined and we can create the dataset. The coordinate variables and the variable temp will be assigned to the dataset.\n",
    "\n"
   ]
  },
  {
   "cell_type": "code",
   "execution_count": null,
   "metadata": {},
   "outputs": [],
   "source": [
    "ds = xr.Dataset(data_vars={'temperature':(['time','lat','lon'], temp),}, \n",
    "                coords={'time':('time', time), \n",
    "                        'lat':(['lat'], lat), \n",
    "                        'lon':(['lon'], lon)})\n",
    "\n",
    "print(ds)"
   ]
  },
  {
   "cell_type": "markdown",
   "metadata": {},
   "source": [
    "<br>\n",
    "\n",
    "Instead of using the print function, the info method of xarray Datasets can be used. The result looks very similar to the output of ncdump.\n",
    "<br><br>"
   ]
  },
  {
   "cell_type": "code",
   "execution_count": null,
   "metadata": {},
   "outputs": [],
   "source": [
    "ds.info()"
   ]
  },
  {
   "cell_type": "markdown",
   "metadata": {},
   "source": [
    "<br>\n",
    "\n",
    "## Read data from file\n",
    "\n",
    "The function ```open_dataset()``` of xarray is used to read the content of the file. \n",
    "<br>"
   ]
  },
  {
   "cell_type": "code",
   "execution_count": null,
   "metadata": {},
   "outputs": [],
   "source": [
    "import xarray as xr\n",
    "import numpy as np\n",
    "\n",
    "fname = './data/tsurf.nc'\n",
    "\n",
    "ds = xr.open_dataset(fname)\n",
    "\n",
    "ds.info()"
   ]
  },
  {
   "cell_type": "markdown",
   "metadata": {},
   "source": [
    "<br>\n",
    "Printing the dataset content gives you an overview of the dimension and variable names, their sizes, and the global file attributes.\n",
    "<br>\n",
    "\n",
    "### Show variable names and coordinates\n",
    "\n",
    "It is always good to have a closer look at your data, and this can be done very easily.\n",
    "\n",
    "Ok, show me the variables stored in that file (ups - just one :D) and the coordinate variables, too.\n"
   ]
  },
  {
   "cell_type": "code",
   "execution_count": null,
   "metadata": {},
   "outputs": [],
   "source": [
    "coords    = ds.coords\n",
    "variables = ds.variables\n",
    "\n",
    "print('--> coords:    \\n\\n', coords)\n",
    "print('--> variables: \\n\\n', variables)"
   ]
  },
  {
   "cell_type": "markdown",
   "metadata": {},
   "source": [
    "Ah, that's better. Here we can see the time displayed in a readable way, because xarray use the datetime64 module under the hood. Also the variable and coordinate attributes are shown.\n",
    "\n",
    "<br>"
   ]
  },
  {
   "cell_type": "markdown",
   "metadata": {},
   "source": [
    "\n",
    "## Select variable and coordinate variables\n",
    "\n",
    "At the moment, we only have created a dataset respectively a file object containing the coordinate variables and variable data. Now, we want to select the variable **tsurf** and the coordinate variables **lat** and **lon**.\n"
   ]
  },
  {
   "cell_type": "code",
   "execution_count": null,
   "metadata": {},
   "outputs": [],
   "source": [
    "tsurf = ds.tsurf\n",
    "lat   = tsurf.lat\n",
    "lon   = tsurf.lon\n",
    "\n",
    "print('Variable tsurf:            \\n', tsurf.data)\n",
    "print('\\nCoordinate variable lat: \\n', lat.data)\n",
    "print('\\nCoordinate variable lon: \\n', lon.data)"
   ]
  },
  {
   "cell_type": "markdown",
   "metadata": {},
   "source": [
    "The variable types have the type ```xr.DataArray()```."
   ]
  },
  {
   "cell_type": "code",
   "execution_count": null,
   "metadata": {},
   "outputs": [],
   "source": [
    "print(type(tsurf))"
   ]
  },
  {
   "cell_type": "markdown",
   "metadata": {},
   "source": [
    "<br>\n",
    "\n",
    "## Dimensions, shape and size\n",
    "\n",
    "To get more informations about the dimension, shape and size of a variable we can use the approbriate attributes.\n"
   ]
  },
  {
   "cell_type": "code",
   "execution_count": null,
   "metadata": {},
   "outputs": [],
   "source": [
    "dimensions = ds.dims\n",
    "shape = tsurf.shape\n",
    "size  = tsurf.size\n",
    "rank  = len(shape)\n",
    "\n",
    "print('dimensions: ', dimensions)\n",
    "print('shape:      ', shape)\n",
    "print('size:       ', size)\n",
    "print('rank:       ', rank)"
   ]
  },
  {
   "cell_type": "markdown",
   "metadata": {},
   "source": [
    "<br>\n",
    "\n",
    "## Variable attributes\n",
    "\n",
    "Variable attributes are very important to work in a correct manor with the data.\n"
   ]
  },
  {
   "cell_type": "code",
   "execution_count": null,
   "metadata": {},
   "outputs": [],
   "source": [
    "attributes = list(tsurf.attrs)\n",
    "\n",
    "print('attributes: ', attributes)"
   ]
  },
  {
   "cell_type": "markdown",
   "metadata": {},
   "source": [
    "Let's see how we can get the content of an attribute."
   ]
  },
  {
   "cell_type": "code",
   "execution_count": null,
   "metadata": {},
   "outputs": [],
   "source": [
    "long_name = tsurf.long_name\n",
    "units = tsurf.units\n",
    "\n",
    "print('long_name: ', long_name)\n",
    "print('units:     ', units)"
   ]
  },
  {
   "cell_type": "markdown",
   "metadata": {},
   "source": [
    "<br>\n",
    "\n",
    "## Time\n",
    "\n",
    "Xarray is able to convert the time values to readable times using the internally datetime64 module."
   ]
  },
  {
   "cell_type": "code",
   "execution_count": null,
   "metadata": {},
   "outputs": [],
   "source": [
    "time = ds.time.data\n",
    "\n",
    "print('timestep 0: ', time[0])"
   ]
  },
  {
   "cell_type": "markdown",
   "metadata": {},
   "source": [
    "<br>\n",
    "\n",
    "## Read a GRIB file\n",
    "\n",
    "To read a GRIB file xarray needs an additional module ```cfgrib```, which is used as an so called _engine_."
   ]
  },
  {
   "cell_type": "code",
   "execution_count": null,
   "metadata": {},
   "outputs": [],
   "source": [
    "import cfgrib\n",
    "\n",
    "ds2 = xr.open_dataset('./data/MET9_IR108_cosmode_0909210000.grb2', engine='cfgrib')\n",
    "\n",
    "variables2 = ds2.variables\n",
    "\n",
    "print('--> variables2: \\n\\n', variables2)"
   ]
  },
  {
   "cell_type": "markdown",
   "metadata": {},
   "source": [
    "<br>\n",
    "\n",
    "## Reshaping\n",
    "\n",
    "There are different ways to swap the dimensions of an array from (x,y) to (y,x). \n"
   ]
  },
  {
   "cell_type": "code",
   "execution_count": null,
   "metadata": {},
   "outputs": [],
   "source": [
    "B = xr.DataArray(np.arange(1, 31).reshape(6, 5), dims=('x', 'y'))\n",
    "\n",
    "print(B)"
   ]
  },
  {
   "cell_type": "code",
   "execution_count": null,
   "metadata": {},
   "outputs": [],
   "source": [
    "print(B.transpose())"
   ]
  },
  {
   "cell_type": "code",
   "execution_count": null,
   "metadata": {},
   "outputs": [],
   "source": [
    "print(B.T)"
   ]
  },
  {
   "cell_type": "markdown",
   "metadata": {},
   "source": [
    "<br>\n",
    "\n",
    "## Computations (xarray methods)\n",
    "\n",
    "Xarray includes the scientific libraries of Python stack, Numpy and pandas. This means we can use Numpy's arithmetic functions for computations.\n",
    "\n",
    "### Arithmetic computations with arrays<br>"
   ]
  },
  {
   "cell_type": "code",
   "execution_count": null,
   "metadata": {},
   "outputs": [],
   "source": [
    "C = xr.DataArray(np.random.uniform(low=0, high=100, size=(10,20)) , dims=('x','y'))\n",
    "D = xr.DataArray(np.random.uniform(low=0, high=100, size=(10,20)) , dims=('x','y'))\n",
    "\n",
    "print(C)\n",
    "print(D)"
   ]
  },
  {
   "cell_type": "markdown",
   "metadata": {},
   "source": [
    "#### Addition of constant value"
   ]
  },
  {
   "cell_type": "code",
   "execution_count": null,
   "metadata": {},
   "outputs": [],
   "source": [
    "C_add_value = C + 5.\n",
    "\n",
    "print('Original value: %f  new value: %f' % (C[3,0], C_add_value[3,0]))"
   ]
  },
  {
   "cell_type": "markdown",
   "metadata": {},
   "source": [
    "#### Addition of two arrays same size"
   ]
  },
  {
   "cell_type": "code",
   "execution_count": null,
   "metadata": {},
   "outputs": [],
   "source": [
    "CD_add = C + D\n",
    "\n",
    "print('C[3,0]: %f  D[3,0]: %f  Added: %f' % (C[3,0], D[3,0], CD_add[3,0]))"
   ]
  },
  {
   "cell_type": "markdown",
   "metadata": {},
   "source": [
    "#### Basic methods"
   ]
  },
  {
   "cell_type": "code",
   "execution_count": null,
   "metadata": {},
   "outputs": [],
   "source": [
    "print('Minimum value = ', C.min().values)\n",
    "print('Maximum value = ', C.max().values)\n",
    "print('Sum           = ', C.sum().values)\n"
   ]
  },
  {
   "cell_type": "markdown",
   "metadata": {},
   "source": [
    "#### Advanced methods"
   ]
  },
  {
   "cell_type": "code",
   "execution_count": null,
   "metadata": {},
   "outputs": [],
   "source": [
    "print(C.mean(dim='x'))"
   ]
  },
  {
   "cell_type": "markdown",
   "metadata": {},
   "source": [
    "<br>\n",
    "\n",
    "### Working with missing values\n",
    "\n",
    "Set the value -9999 in array to missing value. Numpy's np.nan method is used to define a missing value."
   ]
  },
  {
   "cell_type": "code",
   "execution_count": null,
   "metadata": {},
   "outputs": [],
   "source": [
    "tarray = xr.DataArray(data=[0, 1, -9999, 3, 4, 5, 6, 7, -9999, 9, 10], dims='x')\n",
    "\n",
    "tarray = tarray.where(tarray != -9999, np.nan)\n",
    "\n",
    "print(tarray)"
   ]
  },
  {
   "cell_type": "markdown",
   "metadata": {},
   "source": [
    "<br>\n",
    "Check if missing values exist. It returns a mask array of True/False elements."
   ]
  },
  {
   "cell_type": "code",
   "execution_count": null,
   "metadata": {},
   "outputs": [],
   "source": [
    "print(tarray.isnull())"
   ]
  },
  {
   "cell_type": "markdown",
   "metadata": {},
   "source": [
    "Now, create a mask array where the values are not missing values."
   ]
  },
  {
   "cell_type": "code",
   "execution_count": null,
   "metadata": {},
   "outputs": [],
   "source": [
    "print(tarray.notnull())"
   ]
  },
  {
   "cell_type": "markdown",
   "metadata": {},
   "source": [
    "Count value that are not missing values."
   ]
  },
  {
   "cell_type": "code",
   "execution_count": null,
   "metadata": {},
   "outputs": [],
   "source": [
    "print(tarray.count())"
   ]
  },
  {
   "cell_type": "markdown",
   "metadata": {},
   "source": [
    "<br>\n",
    "Return all array elements that are not missing values."
   ]
  },
  {
   "cell_type": "code",
   "execution_count": null,
   "metadata": {},
   "outputs": [],
   "source": [
    "print(tarray.dropna(dim='x'))"
   ]
  },
  {
   "cell_type": "markdown",
   "metadata": {},
   "source": [
    "Set missing value to a constant number."
   ]
  },
  {
   "cell_type": "code",
   "execution_count": null,
   "metadata": {},
   "outputs": [],
   "source": [
    "print(tarray.fillna(0))"
   ]
  },
  {
   "cell_type": "markdown",
   "metadata": {},
   "source": [
    "<br>\n",
    "\n",
    "### Interpolation methods\n",
    "\n",
    "Interpolation on 1D array.\n",
    "\n",
    "Define 1D-array data1D:\n",
    "\n",
    "    y-axis values in range -1.0 to 1.0 with increment 0.1\n",
    "    x-axis values in range 0.0 to 1 with increment 0.05\n",
    "    "
   ]
  },
  {
   "cell_type": "code",
   "execution_count": null,
   "metadata": {},
   "outputs": [],
   "source": [
    "data1D = xr.DataArray(data=[0., 3., 2.1, 2., 1.7, 5., 5.2, 3.3, 2.5, 4.], \n",
    "                                  dims='x', \n",
    "                                  coords={\"x\": np.linspace(0, 10, 10)})\n",
    "print(data1D)\n",
    "\n",
    "data1D.plot()"
   ]
  },
  {
   "cell_type": "markdown",
   "metadata": {},
   "source": [
    "<br>\n",
    "\n",
    "Interpolate 1D values from 21 elements to 101 elements:"
   ]
  },
  {
   "cell_type": "code",
   "execution_count": null,
   "metadata": {},
   "outputs": [],
   "source": [
    "data1D_interp = data1D.interp(x=np.linspace(0, 10, 30))\n",
    "\n",
    "print(data1D_interp)\n",
    "\n",
    "data1D_interp.plot()"
   ]
  },
  {
   "cell_type": "markdown",
   "metadata": {},
   "source": [
    "<br>\n",
    "\n",
    "Interpolation on nD array.\n",
    "\n",
    "Define nD-array data1D:\n",
    "    "
   ]
  },
  {
   "cell_type": "code",
   "execution_count": null,
   "metadata": {},
   "outputs": [],
   "source": [
    "data2D = xr.DataArray(np.random.uniform(low=0, high=2, size=(15,20)), \n",
    "                                        dims=('y','x'), \n",
    "                                        coords={'y':range(15), 'x':range(20)})\n",
    "print(data2D)"
   ]
  },
  {
   "cell_type": "code",
   "execution_count": null,
   "metadata": {},
   "outputs": [],
   "source": [
    "data2D.plot()"
   ]
  },
  {
   "cell_type": "markdown",
   "metadata": {},
   "source": [
    "<br>\n",
    "\n",
    "Increase the resolution of the grid."
   ]
  },
  {
   "cell_type": "code",
   "execution_count": null,
   "metadata": {},
   "outputs": [],
   "source": [
    "data2D_linear = data2D.interp(x=np.linspace(0, 20, 100), y=np.linspace(0, 15, 100))\n",
    "\n",
    "data2D_linear.plot()"
   ]
  },
  {
   "cell_type": "markdown",
   "metadata": {},
   "source": [
    "<br>\n",
    "\n",
    "## Write a Dataset to netCDF file\n"
   ]
  },
  {
   "cell_type": "code",
   "execution_count": null,
   "metadata": {},
   "outputs": [],
   "source": [
    "temp = np.random.uniform(low=265, high=310, size=(12,90,180)) \n",
    "prec = np.random.uniform(low=0.0001, high=0.001, size=(12,90,180))\n",
    "\n",
    "time = pd.date_range(start='2020-01-1', periods=12, freq='SM')\n",
    "lat = np.linspace(-90.0, 90.0, 90)\n",
    "lon = np.linspace(-180.0, 180.0, 180)\n",
    "\n",
    "ds = xr.Dataset(data_vars={'temperature':(['time','lat','lon'], temp),}, \n",
    "                coords={'time':('time', time), \n",
    "                        'lat':(['lat'], lat), \n",
    "                        'lon':(['lon'], lon)})\n",
    "\n",
    "ds.to_netcdf(\"my_data.nc\")"
   ]
  },
  {
   "cell_type": "markdown",
   "metadata": {},
   "source": [
    "$ ncdump -h my_data.nc\n",
    "```\n",
    "netcdf my_data {\n",
    "dimensions:\n",
    "\ttime = 12 ;\n",
    "\tlat = 90 ;\n",
    "\tlon = 180 ;\n",
    "variables:\n",
    "\tdouble temperature(time, lat, lon) ;\n",
    "\t\ttemperature:_FillValue = NaN ;\n",
    "\tint64 time(time) ;\n",
    "\t\ttime:units = \"days since 2020-01-15 00:00:00\" ;\n",
    "\t\ttime:calendar = \"proleptic_gregorian\" ;\n",
    "\tdouble lat(lat) ;\n",
    "\t\tlat:_FillValue = NaN ;\n",
    "\tdouble lon(lon) ;\n",
    "\t\tlon:_FillValue = NaN ;\n",
    "}\n",
    "```\n"
   ]
  },
  {
   "cell_type": "markdown",
   "metadata": {},
   "source": [
    "<br>\n",
    "\n",
    "## Plotting\n",
    "\n",
    "Some additional examples how to use the plot method.\n",
    "\n",
    "<br>\n"
   ]
  },
  {
   "cell_type": "code",
   "execution_count": null,
   "metadata": {},
   "outputs": [],
   "source": [
    "import matplotlib.pyplot as plt\n",
    "\n",
    "fig, ax = plt.subplots(figsize=(6,4))\n",
    "\n",
    "da = xr.DataArray(np.sin(np.linspace(0, 2 * np.pi, 10)), dims=\"x\", coords={\"x\": np.linspace(0, 1, 10)})\n",
    "\n",
    "da.plot.line('o', label='original')\n",
    "da.interp(x=np.linspace(0, 1, 100)).plot.line(label='linear (default)')\n",
    "da.interp(x=np.linspace(0, 1, 100), method='cubic').plot.line(label='cubic')\n",
    "plt.legend()"
   ]
  },
  {
   "cell_type": "code",
   "execution_count": null,
   "metadata": {},
   "outputs": [],
   "source": [
    "data2D.plot()"
   ]
  },
  {
   "cell_type": "code",
   "execution_count": null,
   "metadata": {},
   "outputs": [],
   "source": [
    "xr.open_dataset('./data/tsurf.nc').tsurf[0,:,:].plot.contourf(levels=20)"
   ]
  },
  {
   "cell_type": "code",
   "execution_count": null,
   "metadata": {},
   "outputs": [],
   "source": []
  },
  {
   "cell_type": "code",
   "execution_count": null,
   "metadata": {},
   "outputs": [],
   "source": []
  }
 ],
 "metadata": {
  "kernelspec": {
   "display_name": "Python 3 (ipykernel)",
   "language": "python",
   "name": "python3"
  },
  "language_info": {
   "codemirror_mode": {
    "name": "ipython",
    "version": 3
   },
   "file_extension": ".py",
   "mimetype": "text/x-python",
   "name": "python",
   "nbconvert_exporter": "python",
   "pygments_lexer": "ipython3",
   "version": "3.8.12"
  }
 },
 "nbformat": 4,
 "nbformat_minor": 4
}
